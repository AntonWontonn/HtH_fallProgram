{
 "cells": [
  {
   "cell_type": "code",
   "execution_count": 1,
   "id": "4973c5ab",
   "metadata": {},
   "outputs": [
    {
     "data": {
      "text/html": [
       "<div>\n",
       "<style scoped>\n",
       "    .dataframe tbody tr th:only-of-type {\n",
       "        vertical-align: middle;\n",
       "    }\n",
       "\n",
       "    .dataframe tbody tr th {\n",
       "        vertical-align: top;\n",
       "    }\n",
       "\n",
       "    .dataframe thead th {\n",
       "        text-align: right;\n",
       "    }\n",
       "</style>\n",
       "<table border=\"1\" class=\"dataframe\">\n",
       "  <thead>\n",
       "    <tr style=\"text-align: right;\">\n",
       "      <th></th>\n",
       "      <th>Unnamed: 0</th>\n",
       "      <th>Artist Name</th>\n",
       "      <th>Lead Streams</th>\n",
       "      <th>Feats</th>\n",
       "      <th>Tracks</th>\n",
       "      <th>One Billion</th>\n",
       "      <th>100 Million</th>\n",
       "      <th>Last Updated</th>\n",
       "    </tr>\n",
       "  </thead>\n",
       "  <tbody>\n",
       "    <tr>\n",
       "      <th>25</th>\n",
       "      <td>26</td>\n",
       "      <td>Bruno Mars</td>\n",
       "      <td>18,201,285,113</td>\n",
       "      <td>3,874,562,483</td>\n",
       "      <td>81</td>\n",
       "      <td>5</td>\n",
       "      <td>32</td>\n",
       "      <td>06.09.22</td>\n",
       "    </tr>\n",
       "  </tbody>\n",
       "</table>\n",
       "</div>"
      ],
      "text/plain": [
       "    Unnamed: 0 Artist Name    Lead Streams          Feats Tracks One Billion  \\\n",
       "25          26  Bruno Mars  18,201,285,113  3,874,562,483     81           5   \n",
       "\n",
       "   100 Million Last Updated  \n",
       "25          32     06.09.22  "
      ]
     },
     "execution_count": 1,
     "metadata": {},
     "output_type": "execute_result"
    }
   ],
   "source": [
    "'''\n",
    "What rank is Bruno Mars on my spotify dataset?\n",
    "'''\n",
    "\n",
    "import pandas\n",
    "\n",
    "spotify_data = pandas.read_csv(\"spotify_artist_data.csv\")\n",
    "\n",
    "\n",
    "rank = spotify_data[spotify_data['Artist Name'].str.contains('Bruno Mars')]\n",
    "rank\n"
   ]
  },
  {
   "cell_type": "code",
   "execution_count": 2,
   "id": "2b91b459",
   "metadata": {},
   "outputs": [
    {
     "data": {
      "text/html": [
       "<div>\n",
       "<style scoped>\n",
       "    .dataframe tbody tr th:only-of-type {\n",
       "        vertical-align: middle;\n",
       "    }\n",
       "\n",
       "    .dataframe tbody tr th {\n",
       "        vertical-align: top;\n",
       "    }\n",
       "\n",
       "    .dataframe thead th {\n",
       "        text-align: right;\n",
       "    }\n",
       "</style>\n",
       "<table border=\"1\" class=\"dataframe\">\n",
       "  <thead>\n",
       "    <tr style=\"text-align: right;\">\n",
       "      <th></th>\n",
       "      <th>Unnamed: 0</th>\n",
       "      <th>Artist Name</th>\n",
       "      <th>Lead Streams</th>\n",
       "      <th>Feats</th>\n",
       "      <th>Tracks</th>\n",
       "      <th>One Billion</th>\n",
       "      <th>100 Million</th>\n",
       "      <th>Last Updated</th>\n",
       "    </tr>\n",
       "  </thead>\n",
       "  <tbody>\n",
       "    <tr>\n",
       "      <th>344</th>\n",
       "      <td>345</td>\n",
       "      <td>Rex Orange County</td>\n",
       "      <td>3,678,846,424</td>\n",
       "      <td>138,810,390</td>\n",
       "      <td>58</td>\n",
       "      <td>0</td>\n",
       "      <td>8</td>\n",
       "      <td>11.09.22</td>\n",
       "    </tr>\n",
       "  </tbody>\n",
       "</table>\n",
       "</div>"
      ],
      "text/plain": [
       "     Unnamed: 0        Artist Name   Lead Streams        Feats Tracks  \\\n",
       "344         345  Rex Orange County  3,678,846,424  138,810,390     58   \n",
       "\n",
       "    One Billion 100 Million Last Updated  \n",
       "344           0           8     11.09.22  "
      ]
     },
     "execution_count": 2,
     "metadata": {},
     "output_type": "execute_result"
    }
   ],
   "source": [
    "'''\n",
    "What rank is Rex Orange County?\n",
    "'''\n",
    "\n",
    "import pandas\n",
    "\n",
    "spotify_data = pandas.read_csv(\"spotify_artist_data.csv\")\n",
    "\n",
    "\n",
    "rank = spotify_data[spotify_data['Artist Name'].str.contains('Rex Orange County')]\n",
    "rank\n"
   ]
  },
  {
   "cell_type": "code",
   "execution_count": 4,
   "id": "7d2d5ace",
   "metadata": {},
   "outputs": [
    {
     "data": {
      "text/html": [
       "<div>\n",
       "<style scoped>\n",
       "    .dataframe tbody tr th:only-of-type {\n",
       "        vertical-align: middle;\n",
       "    }\n",
       "\n",
       "    .dataframe tbody tr th {\n",
       "        vertical-align: top;\n",
       "    }\n",
       "\n",
       "    .dataframe thead th {\n",
       "        text-align: right;\n",
       "    }\n",
       "</style>\n",
       "<table border=\"1\" class=\"dataframe\">\n",
       "  <thead>\n",
       "    <tr style=\"text-align: right;\">\n",
       "      <th></th>\n",
       "      <th>Unnamed: 0</th>\n",
       "      <th>Artist Name</th>\n",
       "      <th>Lead Streams</th>\n",
       "      <th>Feats</th>\n",
       "      <th>Tracks</th>\n",
       "      <th>One Billion</th>\n",
       "      <th>100 Million</th>\n",
       "      <th>Last Updated</th>\n",
       "    </tr>\n",
       "  </thead>\n",
       "  <tbody>\n",
       "    <tr>\n",
       "      <th>84</th>\n",
       "      <td>85</td>\n",
       "      <td>Olivia Rodrigo</td>\n",
       "      <td>8,954,631,138</td>\n",
       "      <td>1,691,988</td>\n",
       "      <td>37</td>\n",
       "      <td>2</td>\n",
       "      <td>13</td>\n",
       "      <td>19.09.22</td>\n",
       "    </tr>\n",
       "  </tbody>\n",
       "</table>\n",
       "</div>"
      ],
      "text/plain": [
       "    Unnamed: 0     Artist Name   Lead Streams      Feats Tracks One Billion  \\\n",
       "84          85  Olivia Rodrigo  8,954,631,138  1,691,988     37           2   \n",
       "\n",
       "   100 Million Last Updated  \n",
       "84          13     19.09.22  "
      ]
     },
     "execution_count": 4,
     "metadata": {},
     "output_type": "execute_result"
    }
   ],
   "source": [
    "'''\n",
    "What rank is Olivia Rodrigo?\n",
    "'''\n",
    "\n",
    "import pandas\n",
    "\n",
    "spotify_data = pandas.read_csv(\"spotify_artist_data.csv\")\n",
    "\n",
    "\n",
    "rank = spotify_data[spotify_data['Artist Name'].str.contains('Olivia Rodrigo')]\n",
    "rank\n"
   ]
  },
  {
   "cell_type": "code",
   "execution_count": null,
   "id": "8d899e4d",
   "metadata": {},
   "outputs": [],
   "source": []
  }
 ],
 "metadata": {
  "kernelspec": {
   "display_name": "Python 3 (ipykernel)",
   "language": "python",
   "name": "python3"
  },
  "language_info": {
   "codemirror_mode": {
    "name": "ipython",
    "version": 3
   },
   "file_extension": ".py",
   "mimetype": "text/x-python",
   "name": "python",
   "nbconvert_exporter": "python",
   "pygments_lexer": "ipython3",
   "version": "3.10.7"
  }
 },
 "nbformat": 4,
 "nbformat_minor": 5
}
