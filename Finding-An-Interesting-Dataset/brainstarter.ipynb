{
 "cells": [
  {
   "cell_type": "code",
   "execution_count": 15,
   "id": "edabec6c",
   "metadata": {},
   "outputs": [
    {
     "data": {
      "text/html": [
       "<div>\n",
       "<style scoped>\n",
       "    .dataframe tbody tr th:only-of-type {\n",
       "        vertical-align: middle;\n",
       "    }\n",
       "\n",
       "    .dataframe tbody tr th {\n",
       "        vertical-align: top;\n",
       "    }\n",
       "\n",
       "    .dataframe thead th {\n",
       "        text-align: right;\n",
       "    }\n",
       "</style>\n",
       "<table border=\"1\" class=\"dataframe\">\n",
       "  <thead>\n",
       "    <tr style=\"text-align: right;\">\n",
       "      <th></th>\n",
       "      <th>Unnamed: 0</th>\n",
       "      <th>Artist Name</th>\n",
       "      <th>Lead Streams</th>\n",
       "      <th>Feats</th>\n",
       "      <th>Tracks</th>\n",
       "      <th>One Billion</th>\n",
       "      <th>100 Million</th>\n",
       "      <th>Last Updated</th>\n",
       "    </tr>\n",
       "  </thead>\n",
       "  <tbody>\n",
       "    <tr>\n",
       "      <th>213</th>\n",
       "      <td>214</td>\n",
       "      <td>Tame Impala</td>\n",
       "      <td>5,214,042,684</td>\n",
       "      <td>174,098,397</td>\n",
       "      <td>101</td>\n",
       "      <td>1</td>\n",
       "      <td>11</td>\n",
       "      <td>20.09.22</td>\n",
       "    </tr>\n",
       "  </tbody>\n",
       "</table>\n",
       "</div>"
      ],
      "text/plain": [
       "     Unnamed: 0  Artist Name   Lead Streams        Feats Tracks One Billion  \\\n",
       "213         214  Tame Impala  5,214,042,684  174,098,397    101           1   \n",
       "\n",
       "    100 Million Last Updated  \n",
       "213          11     20.09.22  "
      ]
     },
     "execution_count": 15,
     "metadata": {},
     "output_type": "execute_result"
    }
   ],
   "source": [
    "'''\n",
    "What rank is Tame Impala on my spotify dataset?\n",
    "\n",
    "-filter out name section to get number of row\n",
    "-find rank number and put inside a variable, then print\n",
    "'''\n",
    "import pandas\n",
    "\n",
    "spotify_data = pandas.read_csv(\"spotify_artist_data.csv\")\n",
    "\n",
    "\n",
    "rank = spotify_data[spotify_data['Artist Name'].str.contains('Tame Impala')]\n",
    "rank\n"
   ]
  },
  {
   "cell_type": "code",
   "execution_count": null,
   "id": "64a14488",
   "metadata": {},
   "outputs": [],
   "source": [
    "'''\n",
    "1a) This dataset includes all spotify artists and their ranking, lead streams, feats, tracks, and their streams in billions \n",
    "and 100 millions. \n",
    "\n",
    "2a) I was really interested in this data because one of my favorite hobbies are listening to music. I've always wanted to know\n",
    "how popular the artists I regularly listen to are.\n",
    "\n",
    "3a) Through my analysis I found out that Tame Impala ranks around 214 among spotify's top artists with 1.11 billion streams and\n",
    "their most streamed song having 5 billion streams.\n",
    "'''"
   ]
  },
  {
   "cell_type": "code",
   "execution_count": null,
   "id": "b856c18e",
   "metadata": {},
   "outputs": [],
   "source": []
  }
 ],
 "metadata": {
  "kernelspec": {
   "display_name": "Python 3 (ipykernel)",
   "language": "python",
   "name": "python3"
  },
  "language_info": {
   "codemirror_mode": {
    "name": "ipython",
    "version": 3
   },
   "file_extension": ".py",
   "mimetype": "text/x-python",
   "name": "python",
   "nbconvert_exporter": "python",
   "pygments_lexer": "ipython3",
   "version": "3.10.7"
  }
 },
 "nbformat": 4,
 "nbformat_minor": 5
}
